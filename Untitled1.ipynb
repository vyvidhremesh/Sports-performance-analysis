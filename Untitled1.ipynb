{
 "cells": [
  {
   "cell_type": "code",
   "execution_count": null,
   "id": "8e01addf-2f23-464e-a5b2-4cb2cafb7191",
   "metadata": {},
   "outputs": [],
   "source": [
    "import pandas as pd\n",
    "\n",
    "# Load match and delivery data\n",
    "matches = pd.read_csv('matches_stats.csv')\n",
    "deliveries = pd.read_csv('ipl_stats.csv')\n",
    "\n",
    "# Merge on match_id to get winner and player info\n",
    "data = pd.merge(deliveries, matches[['id', 'winner']], left_on='match_id', right_on='id', how='left')\n",
    "\n",
    "# Create player match participation\n",
    "player_match_outcomes = data[['match_id', 'batsman', 'winner', 'batting_team']].drop_duplicates()\n",
    "\n",
    "# Add \"won\" column: if player's batting_team == winner\n",
    "player_match_outcomes['won'] = (player_match_outcomes['batting_team'] == player_match_outcomes['winner']).astype(int)\n",
    "\n",
    "# Group by player\n",
    "player_stats = player_match_outcomes.groupby('batsman').agg(\n",
    "    total_matches=('match_id', 'nunique'),\n",
    "    total_wins=('won', 'sum')\n",
    ").reset_index()\n",
    "\n",
    "# Calculate win rate\n",
    "player_stats['win_rate'] = player_stats['total_wins'] / player_stats['total_matches']\n"
   ]
  },
  {
   "cell_type": "code",
   "execution_count": null,
   "id": "d87fc85a-aa37-4a1c-8b75-5ec4478cfa6a",
   "metadata": {},
   "outputs": [],
   "source": [
    "# Calculate player performance stats\n",
    "player_perf = data.groupby('batsman').agg(\n",
    "    total_runs=('batsman_runs', 'sum'),\n",
    "    total_balls=('ball', 'count'),\n",
    "    matches_played=('match_id', 'nunique')\n",
    ").reset_index()\n",
    "\n",
    "# Merge with player_stats\n",
    "player_df = pd.merge(player_stats, player_perf, on='batsman')\n",
    "\n",
    "# Compute more features\n",
    "player_df['strike_rate'] = 100 * player_df['total_runs'] / player_df['total_balls']\n",
    "player_df['avg_runs_per_match'] = player_df['total_runs'] / player_df['matches_played']\n"
   ]
  },
  {
   "cell_type": "code",
   "execution_count": null,
   "id": "8a748c6a-afda-4a8c-96f5-f04f1ec55289",
   "metadata": {},
   "outputs": [],
   "source": [
    "from sklearn.model_selection import train_test_split\n",
    "from sklearn.ensemble import RandomForestRegressor\n",
    "from sklearn.metrics import r2_score\n",
    "\n",
    "# Features and target\n",
    "features = ['total_matches', 'total_runs', 'total_balls', 'strike_rate', 'avg_runs_per_match']\n",
    "X = player_df[features]\n",
    "y = player_df['win_rate']\n",
    "\n",
    "# Split\n",
    "X_train, X_test, y_train, y_test = train_test_split(X, y, test_size=0.2, random_state=42)\n",
    "\n",
    "# Train model\n",
    "model = RandomForestRegressor(random_state=42)\n",
    "model.fit(X_train, y_train)\n",
    "\n",
    "# Predict and evaluate\n",
    "y_pred = model.predict(X_test)\n",
    "print(f\"R² Score: {r2_score(y_test, y_pred):.4f}\")\n"
   ]
  },
  {
   "cell_type": "code",
   "execution_count": null,
   "id": "bfc231e2-07a7-4257-b8ad-e502426214b7",
   "metadata": {},
   "outputs": [],
   "source": []
  }
 ],
 "metadata": {
  "kernelspec": {
   "display_name": "Python 3 (ipykernel)",
   "language": "python",
   "name": "python3"
  },
  "language_info": {
   "codemirror_mode": {
    "name": "ipython",
    "version": 3
   },
   "file_extension": ".py",
   "mimetype": "text/x-python",
   "name": "python",
   "nbconvert_exporter": "python",
   "pygments_lexer": "ipython3",
   "version": "3.12.7"
  }
 },
 "nbformat": 4,
 "nbformat_minor": 5
}
